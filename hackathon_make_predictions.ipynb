{
 "cells": [
  {
   "cell_type": "markdown",
   "id": "8090f896",
   "metadata": {},
   "source": [
    "# Packages"
   ]
  },
  {
   "cell_type": "code",
   "execution_count": 1,
   "id": "dac6dae8",
   "metadata": {},
   "outputs": [],
   "source": [
    "%load_ext autoreload\n",
    "%autoreload 2\n",
    "\n",
    "import pandas as pd\n",
    "\n",
    "from constants import Constant as C\n",
    "from loaders import load_ratings\n",
    "from models import ContentBased"
   ]
  },
  {
   "cell_type": "markdown",
   "id": "c2f9e553",
   "metadata": {},
   "source": [
    "# How to generate predictions for the hackathon ?\n",
    "To submit predictions to the hackathon: \n",
    "- be sure to consider your latest version of ContentBased. Use your evaluator notebook to assess the quality of your model\n",
    "- run the make_hackathon_prediction() function in the present notebook with your best feature_method and regressor_method. This will generate a ratings_prediction.csv file\n",
    "- download ratings_prediction.csv and upload it on the onedrive of your group"
   ]
  },
  {
   "cell_type": "code",
   "execution_count": 5,
   "id": "ae7eadd9",
   "metadata": {},
   "outputs": [],
   "source": [
    "def make_hackathon_prediction(feature_method, regressor_method):\n",
    "    \"\"\"Generate a prediction file on the test set\"\"\"\n",
    "    # 1) load train data - make sure to redirect the DATA_PATH to'data/hackathon'\n",
    "    assert str(C.DATA_PATH) == 'data/hackathon'\n",
    "    sp_ratings = load_ratings(surprise_format=True)\n",
    "    train_set = sp_ratings.build_full_trainset()\n",
    "    \n",
    "    # 2) train your ContentBased model on the train set\n",
    "    content_knn = ContentBased(feature_method, regressor_method)\n",
    "    content_knn.fit(train_set)\n",
    "    \n",
    "    # 3) make predictions on the test set\n",
    "    df_test = pd.read_csv('data/hackathon/evidence/ratings_test.csv')[C.USER_ITEM_RATINGS]\n",
    "    test_records = list(df_test.to_records(index=False))\n",
    "    predictions = content_knn.test(test_records)\n",
    "    output_predictions = []\n",
    "    for uid, iid, _, est, _ in predictions:\n",
    "        output_predictions.append([uid, iid, est])\n",
    "    df_predictions = pd.DataFrame(data=output_predictions, columns = df_test.columns)\n",
    "\n",
    "    # 4) dump predictions\n",
    "    df_predictions.to_csv(f'ratings_predictions.csv', index=False)\n",
    "\n",
    "    \n",
    "make_hackathon_prediction(None, \"random_score\")"
   ]
  },
  {
   "cell_type": "code",
   "execution_count": null,
   "id": "3f546c18",
   "metadata": {},
   "outputs": [],
   "source": []
  }
 ],
 "metadata": {
  "kernelspec": {
   "display_name": "mlsmm2156_cvk",
   "language": "python",
   "name": "mlsmm2156_cvk"
  },
  "language_info": {
   "codemirror_mode": {
    "name": "ipython",
    "version": 3
   },
   "file_extension": ".py",
   "mimetype": "text/x-python",
   "name": "python",
   "nbconvert_exporter": "python",
   "pygments_lexer": "ipython3",
   "version": "3.9.9"
  }
 },
 "nbformat": 4,
 "nbformat_minor": 5
}
