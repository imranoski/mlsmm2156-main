{
 "cells": [
  {
   "cell_type": "markdown",
   "id": "f4a8f664",
   "metadata": {},
   "source": [
    "# Custom User-based Model\n",
    "The present notebooks aims at creating a UserBased class that inherits from the Algobase class (surprise package) and that can be customized with various similarity metrics, peer groups and score aggregation functions. "
   ]
  },
  {
   "cell_type": "code",
   "execution_count": 9,
   "id": "00d1b249",
   "metadata": {},
   "outputs": [
    {
     "name": "stdout",
     "output_type": "stream",
     "text": [
      "The autoreload extension is already loaded. To reload it, use:\n",
      "  %reload_ext autoreload\n"
     ]
    }
   ],
   "source": [
    "# reloads modules automatically before entering the execution of code\n",
    "%load_ext autoreload\n",
    "%autoreload 2\n",
    "\n",
    "# standard library imports\n",
    "# -- add new imports here --\n",
    "\n",
    "# third parties imports\n",
    "import numpy as np \n",
    "import pandas as pd\n",
    "from surprise import AlgoBase\n",
    "# -- add new imports here --\n",
    "\n",
    "# local imports\n",
    "from constants import Constant as C\n",
    "from loaders import load_ratings\n",
    "# -- add new imports here --"
   ]
  },
  {
   "cell_type": "markdown",
   "id": "22716aa3",
   "metadata": {},
   "source": [
    "# 1. Loading Data\n",
    "Prepare a dataset in order to help implementing a user-based recommender system"
   ]
  },
  {
   "cell_type": "code",
   "execution_count": 10,
   "id": "cf3ccdc0",
   "metadata": {},
   "outputs": [],
   "source": [
    "# -- load data, build trainset and anti testset --"
   ]
  },
  {
   "cell_type": "markdown",
   "id": "94adf3a6",
   "metadata": {},
   "source": [
    "# 2. Explore Surprise's user-based algorithm\n",
    "Displays user-based predictions and similarity matrix on the test dataset using the KNNWithMeans class"
   ]
  },
  {
   "cell_type": "code",
   "execution_count": 15,
   "id": "e6fb78b7",
   "metadata": {},
   "outputs": [],
   "source": [
    "# -- using surprise's user-based algorithm, explore the impact of different parameters and displays predictions --\n"
   ]
  },
  {
   "cell_type": "markdown",
   "id": "2dd01f5b",
   "metadata": {},
   "source": [
    "# 3. Implement and explore a customizable user-based algorithm\n",
    "Create a self-made user-based algorithm allowing to customize the similarity metric, peer group calculation and aggregation function"
   ]
  },
  {
   "cell_type": "code",
   "execution_count": 12,
   "id": "d03ed9eb",
   "metadata": {},
   "outputs": [],
   "source": [
    "class UserBased(AlgoBase):\n",
    "    def __init__(self, k=3, min_k=1, sim_options={}, **kwargs):\n",
    "        AlgoBase.__init__(self, sim_options=sim_options, **kwargs)\n",
    "        self.k = k\n",
    "        self.min_k = min_k\n",
    "\n",
    "        \n",
    "    def fit(self, trainset):\n",
    "        AlgoBase.fit(self, trainset)\n",
    "        # -- implement here the fit function --\n",
    "    \n",
    "    def estimate(self, u, i):\n",
    "        if not (self.trainset.knows_user(u) and self.trainset.knows_item(i)):\n",
    "            raise PredictionImpossible('User and/or item is unknown.')\n",
    "        \n",
    "        estimate = self.mean_ratings[u]\n",
    "        # -- implement here the estimate function --\n",
    "        \n",
    "        return estimate\n",
    "\n",
    "                    \n",
    "    def compute_rating_matrix(self):\n",
    "        pass\n",
    "        # -- implement here the compute_rating_matrix function --\n",
    "    \n",
    "    def compute_similarity_matrix(self):\n",
    "        pass\n",
    "        # -- implement here the compute_rating_matrix function -)\n",
    "customizable "
   ]
  },
  {
   "cell_type": "markdown",
   "id": "dfdc9cfe",
   "metadata": {},
   "source": [
    "# 4. Compare KNNWithMeans with UserBased\n",
    "Try to replicate KNNWithMeans with your self-made UserBased and check that outcomes are identical"
   ]
  },
  {
   "cell_type": "code",
   "execution_count": 16,
   "id": "be53ae27",
   "metadata": {},
   "outputs": [],
   "source": [
    "# -- assert that predictions are the same with different sim_options --\n"
   ]
  },
  {
   "cell_type": "markdown",
   "id": "cced76d9",
   "metadata": {},
   "source": [
    "# 5. Compare MSD and Jacard\n",
    "Compare predictions made with MSD similarity and Jacard similarity\n"
   ]
  },
  {
   "cell_type": "code",
   "execution_count": 14,
   "id": "c20d8e19",
   "metadata": {},
   "outputs": [],
   "source": [
    "# -- compare predictions made with MSD similarity and Jacard similarity --\n"
   ]
  }
 ],
 "metadata": {
  "kernelspec": {
   "display_name": "mlsmm2156",
   "language": "python",
   "name": "mlsmm2156"
  },
  "language_info": {
   "codemirror_mode": {
    "name": "ipython",
    "version": 3
   },
   "file_extension": ".py",
   "mimetype": "text/x-python",
   "name": "python",
   "nbconvert_exporter": "python",
   "pygments_lexer": "ipython3",
   "version": "3.9.9"
  }
 },
 "nbformat": 4,
 "nbformat_minor": 5
}
