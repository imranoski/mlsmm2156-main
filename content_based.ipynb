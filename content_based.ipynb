{
 "cells": [
  {
   "cell_type": "markdown",
   "id": "82d5ca82",
   "metadata": {},
   "source": [
    "# Packages"
   ]
  },
  {
   "cell_type": "code",
   "execution_count": 1,
   "id": "277473a3",
   "metadata": {},
   "outputs": [],
   "source": [
    "%load_ext autoreload\n",
    "%autoreload 2\n",
    "\n",
    "import numpy as np\n",
    "import pandas as pd\n",
    "import random as rd\n",
    "from surprise import AlgoBase\n",
    "from surprise.prediction_algorithms.predictions import PredictionImpossible\n",
    "\n",
    "from loaders import load_ratings\n",
    "from loaders import load_items\n",
    "from constants import Constant as C"
   ]
  },
  {
   "cell_type": "markdown",
   "id": "a42c16bf",
   "metadata": {},
   "source": [
    "# Explore and select content features"
   ]
  },
  {
   "cell_type": "code",
   "execution_count": 8,
   "id": "e8378976",
   "metadata": {},
   "outputs": [
    {
     "data": {
      "text/html": [
       "<div>\n",
       "<style scoped>\n",
       "    .dataframe tbody tr th:only-of-type {\n",
       "        vertical-align: middle;\n",
       "    }\n",
       "\n",
       "    .dataframe tbody tr th {\n",
       "        vertical-align: top;\n",
       "    }\n",
       "\n",
       "    .dataframe thead th {\n",
       "        text-align: right;\n",
       "    }\n",
       "</style>\n",
       "<table border=\"1\" class=\"dataframe\">\n",
       "  <thead>\n",
       "    <tr style=\"text-align: right;\">\n",
       "      <th></th>\n",
       "      <th>n_character_title</th>\n",
       "    </tr>\n",
       "    <tr>\n",
       "      <th>movieId</th>\n",
       "      <th></th>\n",
       "    </tr>\n",
       "  </thead>\n",
       "  <tbody>\n",
       "    <tr>\n",
       "      <th>1</th>\n",
       "      <td>16</td>\n",
       "    </tr>\n",
       "    <tr>\n",
       "      <th>2</th>\n",
       "      <td>14</td>\n",
       "    </tr>\n",
       "    <tr>\n",
       "      <th>3</th>\n",
       "      <td>23</td>\n",
       "    </tr>\n",
       "    <tr>\n",
       "      <th>4</th>\n",
       "      <td>24</td>\n",
       "    </tr>\n",
       "    <tr>\n",
       "      <th>5</th>\n",
       "      <td>34</td>\n",
       "    </tr>\n",
       "  </tbody>\n",
       "</table>\n",
       "</div>"
      ],
      "text/plain": [
       "         n_character_title\n",
       "movieId                   \n",
       "1                       16\n",
       "2                       14\n",
       "3                       23\n",
       "4                       24\n",
       "5                       34"
      ]
     },
     "metadata": {},
     "output_type": "display_data"
    }
   ],
   "source": [
    "df_items = load_items()\n",
    "df_ratings = load_ratings()\n",
    "\n",
    "# Example 1 : create title_length features\n",
    "df_features = df_items[C.LABEL_COL].apply(lambda x: len(x)).to_frame('n_character_title')\n",
    "display(df_features.head())\n",
    "\n",
    "# (explore here other features)\n"
   ]
  },
  {
   "cell_type": "markdown",
   "id": "a2c9a2b6",
   "metadata": {},
   "source": [
    "# Build a content-based model\n",
    "When ready, move the following class in the *models.py* script"
   ]
  },
  {
   "cell_type": "code",
   "execution_count": 9,
   "id": "16b0a602",
   "metadata": {},
   "outputs": [],
   "source": [
    "class ContentBased(AlgoBase):\n",
    "    def __init__(self, features_method, regressor_method):\n",
    "        AlgoBase.__init__(self)\n",
    "        self.regressor_method = regressor_method\n",
    "        self.content_features = self.create_content_features(features_method)\n",
    "\n",
    "    def create_content_features(self, features_method):\n",
    "        \"\"\"Content Analyzer\"\"\"\n",
    "        df_items = load_items()\n",
    "        if features_method is None:\n",
    "            df_features = None\n",
    "        elif features_method == \"title_length\": # a naive method that creates only 1 feature based on title length\n",
    "            df_features = df_items[C.LABEL_COL].apply(lambda x: len(x)).to_frame('n_character_title')\n",
    "        else: # (implement other feature creations here)\n",
    "            raise NotImplementedError(f'Feature method {features_method} not yet implemented')\n",
    "        return df_features\n",
    "    \n",
    "\n",
    "    def fit(self, trainset):\n",
    "        \"\"\"Profile Learner\"\"\"\n",
    "        AlgoBase.fit(self, trainset)\n",
    "        \n",
    "        # Preallocate user profiles\n",
    "        self.user_profile = {u: None for u in trainset.all_users()}\n",
    "\n",
    "        if self.regressor_method == 'random_score':\n",
    "            pass\n",
    "        \n",
    "        elif self.regressor_method == 'random_sample':\n",
    "            for u in self.user_profile:\n",
    "                self.user_profile[u] = [rating for _, rating in self.trainset.ur[u]]\n",
    "        else:\n",
    "            pass\n",
    "            # (implement here the regressor fitting)  \n",
    "        \n",
    "    def estimate(self, u, i):\n",
    "        \"\"\"Scoring component used for item filtering\"\"\"\n",
    "        # First, handle cases for unknown users and items\n",
    "        if not (self.trainset.knows_user(u) and self.trainset.knows_item(i)):\n",
    "            raise PredictionImpossible('User and/or item is unkown.')\n",
    "\n",
    "\n",
    "        if self.regressor_method == 'random_score':\n",
    "            rd.seed()\n",
    "            score = rd.uniform(0.5,5)\n",
    "\n",
    "        elif self.regressor_method == 'random_sample':\n",
    "            rd.seed()\n",
    "            score = rd.choice(self.user_profile[u])\n",
    "        \n",
    "        else:\n",
    "            score=None\n",
    "            # (implement here the regressor prediction)\n",
    "\n",
    "        return score\n"
   ]
  },
  {
   "cell_type": "markdown",
   "id": "ffd75b7e",
   "metadata": {},
   "source": [
    "The following script test the ContentBased class"
   ]
  },
  {
   "cell_type": "code",
   "execution_count": 10,
   "id": "69d12f7d",
   "metadata": {},
   "outputs": [],
   "source": [
    "def test_contentbased_class(feature_method, regressor_method):\n",
    "    \"\"\"Test the ContentBased class.\n",
    "    Tries to make a prediction on the first (user,item ) tuple of the anti_test_set\n",
    "    \"\"\"\n",
    "    sp_ratings = load_ratings(surprise_format=True)\n",
    "    train_set = sp_ratings.build_full_trainset()\n",
    "    content_algo = ContentBased(feature_method, regressor_method)\n",
    "    content_algo.fit(train_set)\n",
    "    anti_test_set_first = train_set.build_anti_testset()[0]\n",
    "    prediction = content_algo.predict(anti_test_set_first[0], anti_test_set_first[1])\n",
    "    print(prediction)\n",
    "\n",
    "# (call here the test functions with different regressor methods)\n"
   ]
  }
 ],
 "metadata": {
  "kernelspec": {
   "display_name": "mlsmm2156_cvk",
   "language": "python",
   "name": "mlsmm2156_cvk"
  },
  "language_info": {
   "codemirror_mode": {
    "name": "ipython",
    "version": 3
   },
   "file_extension": ".py",
   "mimetype": "text/x-python",
   "name": "python",
   "nbconvert_exporter": "python",
   "pygments_lexer": "ipython3",
   "version": "3.9.9"
  }
 },
 "nbformat": 4,
 "nbformat_minor": 5
}
